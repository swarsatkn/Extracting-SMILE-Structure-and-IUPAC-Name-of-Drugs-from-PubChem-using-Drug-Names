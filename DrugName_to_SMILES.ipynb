{
 "cells": [
  {
   "cell_type": "code",
   "execution_count": 1,
   "id": "39ecf6e0",
   "metadata": {},
   "outputs": [],
   "source": [
    "import argparse\n",
    "import os\n",
    "import traceback\n",
    "from rdkit import Chem\n",
    "import pandas as pd\n",
    "import subprocess\n",
    "import sys\n",
    "import requests\n",
    "import time\n",
    "import pickle\n",
    "import numpy as np\n",
    "from tqdm import tqdm\n",
    "import datetime"
   ]
  },
  {
   "cell_type": "code",
   "execution_count": 2,
   "id": "2c686fd5",
   "metadata": {},
   "outputs": [],
   "source": [
    "def execute(name):\n",
    "    \n",
    "    drug_names = []\n",
    "    drug_names.append(name)\n",
    "    \n",
    "    base_url = \"https://pubchem.ncbi.nlm.nih.gov/rest/pug\"\n",
    "\n",
    "    url_for_synonyms_to_cid = f\"{base_url}/compound/name/synonyms/json\"\n",
    "    response_pub_chem_synonyms = requests.post(url_for_synonyms_to_cid, {\"name\": name})\n",
    "    if response_pub_chem_synonyms.status_code > 202:\n",
    "        raise Exception(f\"PUBChem ({url_for_synonyms_to_cid})\\nResponse code {response_pub_chem_synonyms.status_code}\\n\"\n",
    "                        f\"{response_pub_chem_synonyms.text}\")\n",
    "    response_pub_chem_synonyms = response_pub_chem_synonyms.json()\n",
    "    cid_record = response_pub_chem_synonyms[\"InformationList\"][\"Information\"][0]\n",
    "\n",
    "    time.sleep(1)\n",
    "    \n",
    "    compound_properties = {}\n",
    "    url_for_pub_chem_smiles_iupac = f\"{base_url}/compound/cid/property/IUPACName,CanonicalSMILES/json\"\n",
    "    response_pub_chem_smiles_iupac = requests.post(url_for_pub_chem_smiles_iupac, {\"cid\": cid_record[\"CID\"]})\n",
    "    if response_pub_chem_smiles_iupac.status_code > 202:\n",
    "        raise Exception(f\"PUBChem ({url_for_pub_chem_smiles_iupac})\\n\"\n",
    "                        f\"Response code {response_pub_chem_smiles_iupac.status_code}\\n\"\n",
    "                        f\"{response_pub_chem_smiles_iupac.text}\")\n",
    "    response_pub_chem_smiles_iupac = response_pub_chem_smiles_iupac.json()\n",
    "    for params in response_pub_chem_smiles_iupac[\"PropertyTable\"][\"Properties\"]:\n",
    "        try:\n",
    "            compound_properties[params[\"CID\"]] = [params[\"CanonicalSMILES\"], params[\"IUPACName\"],\n",
    "                                                  cid_record[\"Synonym\"][0]]\n",
    "        except KeyError:\n",
    "            compound_properties[params[\"CID\"]] = [\"\", \"\", \"\"]\n",
    "            \n",
    "    return compound_properties"
   ]
  },
  {
   "cell_type": "code",
   "execution_count": 7,
   "id": "027bf79e",
   "metadata": {},
   "outputs": [],
   "source": [
    "#GENERATE OUTPUT FILE\n",
    "def generate_results(all_cp, drug_names, not_processed, result_file_name, resultant_folder, time_date):\n",
    "    keys = []\n",
    "    values = []\n",
    "\n",
    "    for e in all_cp:\n",
    "        keys.append(e.keys())\n",
    "        values.append(e.values())\n",
    "\n",
    "    #generate keys\n",
    "    lok = []\n",
    "    list_of_keys = []\n",
    "    for k in keys:\n",
    "        k = list(k)\n",
    "        lok.append(k)\n",
    "    for k in lok:\n",
    "        list_of_keys.append(k[0])\n",
    "\n",
    "    #generate smiles, IUPAC names, generic names list \n",
    "    smile = []\n",
    "    list_of_smiles = []\n",
    "    list_of_IUPAC_names = []\n",
    "    list_of_generic_names = []\n",
    "    for v in values:\n",
    "        v = list(v)\n",
    "        smile.append(v)\n",
    "    for v in smile:\n",
    "        list_of_smiles.append(v[0][0])\n",
    "        list_of_IUPAC_names.append(v[0][1])\n",
    "        list_of_generic_names.append(v[0][2])\n",
    "            \n",
    "    df = pd.DataFrame()\n",
    "        \n",
    "    df['Drug Name'] = drug_names \n",
    "    df['SMILE'] = list_of_smiles\n",
    "    df['IUPAC Name'] = list_of_IUPAC_names   \n",
    "            \n",
    "    #save CSV\n",
    "    df.to_csv(f'{resultant_folder}/{time_date}_{result_file_name}.csv', index=False)\n",
    "    \n",
    "    #create CSV containing DrugBank IDs that were not processed \n",
    "    not_p = pd.DataFrame()\n",
    "    not_p['DrugBank ID'] = not_processed\n",
    "    not_p.to_csv(f'{resultant_folder}/{time_date}_{result_file_name}_not_processed.csv', index=False)\n",
    "    \n",
    "    print(f\"TASK COMPLETED: {result_file_name}.csv and {result_file_name}_not_processed.csv CREATED in {resultant_folder}\")"
   ]
  },
  {
   "cell_type": "markdown",
   "id": "43849fe2",
   "metadata": {},
   "source": [
    "RUN THE NEXT CELL FOR GENERATING RESULTS "
   ]
  },
  {
   "cell_type": "code",
   "execution_count": 6,
   "id": "b7fa83f8",
   "metadata": {},
   "outputs": [
    {
     "name": "stdout",
     "output_type": "stream",
     "text": [
      "Enter path to text file/home/user/Downloads/DrugX/drug_dl_11/drugids.txt\n",
      "Enter name of resultant fileefficient\n"
     ]
    },
    {
     "name": "stderr",
     "output_type": "stream",
     "text": [
      " 16%|███████▏                                    | 7/43 [00:52<03:24,  5.69s/it]"
     ]
    },
    {
     "name": "stdout",
     "output_type": "stream",
     "text": [
      "Couldn't process DrugBank ID:  DB10672\n"
     ]
    },
    {
     "name": "stderr",
     "output_type": "stream",
     "text": [
      "\r",
      " 19%|████████▏                                   | 8/43 [00:55<02:54,  4.99s/it]"
     ]
    },
    {
     "name": "stdout",
     "output_type": "stream",
     "text": [
      "Couldn't process DrugBank ID:  DB14345\n"
     ]
    },
    {
     "name": "stderr",
     "output_type": "stream",
     "text": [
      "\r",
      " 21%|█████████▏                                  | 9/43 [00:57<02:11,  3.86s/it]"
     ]
    },
    {
     "name": "stdout",
     "output_type": "stream",
     "text": [
      "Couldn't process DrugBank ID:  DB11605\n"
     ]
    },
    {
     "name": "stderr",
     "output_type": "stream",
     "text": [
      " 28%|████████████                               | 12/43 [01:23<03:36,  7.00s/it]"
     ]
    },
    {
     "name": "stdout",
     "output_type": "stream",
     "text": [
      "Couldn't process DrugBank ID:  DD47384\n"
     ]
    },
    {
     "name": "stderr",
     "output_type": "stream",
     "text": [
      "\r",
      " 30%|█████████████                              | 13/43 [01:26<02:51,  5.72s/it]"
     ]
    },
    {
     "name": "stdout",
     "output_type": "stream",
     "text": [
      "Couldn't process DrugBank ID:  DD43834\n"
     ]
    },
    {
     "name": "stderr",
     "output_type": "stream",
     "text": [
      " 63%|███████████████████████████                | 27/43 [02:47<01:28,  5.53s/it]"
     ]
    },
    {
     "name": "stdout",
     "output_type": "stream",
     "text": [
      "Couldn't process DrugBank ID:  DD38399\n"
     ]
    },
    {
     "name": "stderr",
     "output_type": "stream",
     "text": [
      "100%|███████████████████████████████████████████| 43/43 [04:41<00:00,  6.54s/it]"
     ]
    },
    {
     "name": "stdout",
     "output_type": "stream",
     "text": [
      "TASK COMPLETED: efficient.csv and efficient_not_processed.csv CREATED in /home/user/Downloads/DrugX/drug_dl_11/Results_DrugName_to_SMILES\n"
     ]
    },
    {
     "name": "stderr",
     "output_type": "stream",
     "text": [
      "\n"
     ]
    }
   ],
   "source": [
    "#Date and Time \n",
    "x = datetime.datetime.now()\n",
    "hour = x.strftime(\"%H\")\n",
    "minute = x.strftime(\"%M\")\n",
    "second = x.strftime(\"%S\")\n",
    "day = x.strftime(\"%d\")\n",
    "month = x.strftime(\"%m\")\n",
    "year = x.strftime(\"%y\")\n",
    "time_date = f\"{hour}{minute}{second}-{day}{month}{year}\"\n",
    "\n",
    "text_file = str(input('Enter path to text file'))\n",
    "result_file_name = str(input('Enter name of resultant file'))\n",
    "\n",
    "resultant_folder = os.path.join(os.path.abspath(''), 'Results_DrugName_to_SMILES')\n",
    "\n",
    "if os.path.exists(resultant_folder):\n",
    "    pass\n",
    "else:\n",
    "    os.makedirs(resultant_folder)\n",
    "\n",
    "all_cp = []\n",
    "drug_names = []\n",
    "not_processed = []\n",
    "with open(text_file) as f:\n",
    "        user_input = f.read()            \n",
    "        if user_input != \"\":\n",
    "            drug_ids = [x.strip() for x in user_input.strip().split(\"\\n\")]\n",
    "            \n",
    "            for did in tqdm(drug_ids, total=len(drug_ids)):\n",
    "                try:\n",
    "                    all_cp.append(execute(did))\n",
    "                    drug_names.append(did)\n",
    "                except:\n",
    "                    not_processed.append(did)\n",
    "                    print(\"Couldn't process DrugBank ID: \", did)\n",
    "generate_results(all_cp, drug_names, not_processed, result_file_name, resultant_folder, time_date)"
   ]
  },
  {
   "cell_type": "code",
   "execution_count": null,
   "id": "48e9d96b",
   "metadata": {},
   "outputs": [],
   "source": []
  },
  {
   "cell_type": "code",
   "execution_count": null,
   "id": "f310940f",
   "metadata": {},
   "outputs": [],
   "source": []
  }
 ],
 "metadata": {
  "kernelspec": {
   "display_name": "Python 3",
   "language": "python",
   "name": "python3"
  },
  "language_info": {
   "codemirror_mode": {
    "name": "ipython",
    "version": 3
   },
   "file_extension": ".py",
   "mimetype": "text/x-python",
   "name": "python",
   "nbconvert_exporter": "python",
   "pygments_lexer": "ipython3",
   "version": "3.8.5"
  }
 },
 "nbformat": 4,
 "nbformat_minor": 5
}
